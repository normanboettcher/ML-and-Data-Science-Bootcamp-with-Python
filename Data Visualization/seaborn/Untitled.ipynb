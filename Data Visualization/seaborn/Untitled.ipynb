{
 "cells": [
  {
   "cell_type": "code",
   "execution_count": 2,
   "id": "75c2e745-49b0-405b-8751-8477e6ede4bd",
   "metadata": {},
   "outputs": [],
   "source": [
    "import numpy as np"
   ]
  },
  {
   "cell_type": "code",
   "execution_count": 5,
   "id": "a6cfa8e6-a89e-4265-99e8-c7fc7369f6c4",
   "metadata": {},
   "outputs": [
    {
     "data": {
      "text/plain": [
       "array([  1,  26,  51,  76, 101, 126, 151, 176, 201, 226, 251, 276, 301,\n",
       "       326, 351, 376, 401, 426, 451, 476, 501, 526, 551, 576, 601, 626,\n",
       "       651, 676, 701, 726, 751, 776, 801, 826, 851, 876, 901, 926, 951,\n",
       "       976])"
      ]
     },
     "execution_count": 5,
     "metadata": {},
     "output_type": "execute_result"
    }
   ],
   "source": [
    "arr = np.arange(1, 1000, 25)\n",
    "arr"
   ]
  },
  {
   "cell_type": "code",
   "execution_count": 6,
   "id": "fcd0f084-7111-41d3-ac72-564a968cdb2a",
   "metadata": {},
   "outputs": [
    {
     "data": {
      "text/plain": [
       "(40,)"
      ]
     },
     "execution_count": 6,
     "metadata": {},
     "output_type": "execute_result"
    }
   ],
   "source": [
    "arr.shape"
   ]
  },
  {
   "cell_type": "code",
   "execution_count": 8,
   "id": "1ad11039-06d1-410b-908f-77d2ea14ad6d",
   "metadata": {},
   "outputs": [
    {
     "data": {
      "text/plain": [
       "array([[  1,  26,  51,  76, 101, 126, 151, 176, 201, 226],\n",
       "       [251, 276, 301, 326, 351, 376, 401, 426, 451, 476],\n",
       "       [501, 526, 551, 576, 601, 626, 651, 676, 701, 726],\n",
       "       [751, 776, 801, 826, 851, 876, 901, 926, 951, 976]])"
      ]
     },
     "execution_count": 8,
     "metadata": {},
     "output_type": "execute_result"
    }
   ],
   "source": [
    "arr.reshape(4,10)"
   ]
  },
  {
   "cell_type": "code",
   "execution_count": null,
   "id": "851189cb-2d9b-4353-9060-c13ebbadda05",
   "metadata": {},
   "outputs": [],
   "source": []
  },
  {
   "cell_type": "code",
   "execution_count": 15,
   "id": "07900f65-b7bb-4e63-9b93-c6d961b5e799",
   "metadata": {},
   "outputs": [],
   "source": [
    "E = np.array([[[0, 0.5667, 0.5988, 0],\n",
    "              [0.7502, 0,1.38,0],\n",
    "              [0,0,0,0.64],\n",
    "             [0,0,0.5229,0]],\n",
    "              [[0,0.79,-1.55,0],\n",
    "               [-0.5855,0,1.5863,0],\n",
    "               [0,0,0,0.55],\n",
    "               [0,0,2.3,0]]])"
   ]
  },
  {
   "cell_type": "code",
   "execution_count": 16,
   "id": "b00ff7c6-f937-4bf1-8e01-f2b857558b22",
   "metadata": {},
   "outputs": [
    {
     "data": {
      "text/plain": [
       "array([[[ 0.    ,  0.5667,  0.5988,  0.    ],\n",
       "        [ 0.7502,  0.    ,  1.38  ,  0.    ],\n",
       "        [ 0.    ,  0.    ,  0.    ,  0.64  ],\n",
       "        [ 0.    ,  0.    ,  0.5229,  0.    ]],\n",
       "\n",
       "       [[ 0.    ,  0.79  , -1.55  ,  0.    ],\n",
       "        [-0.5855,  0.    ,  1.5863,  0.    ],\n",
       "        [ 0.    ,  0.    ,  0.    ,  0.55  ],\n",
       "        [ 0.    ,  0.    ,  2.3   ,  0.    ]]])"
      ]
     },
     "execution_count": 16,
     "metadata": {},
     "output_type": "execute_result"
    }
   ],
   "source": [
    "E"
   ]
  },
  {
   "cell_type": "code",
   "execution_count": 23,
   "id": "1a995526-f3e4-45bd-94e5-fa3e061fbf5b",
   "metadata": {},
   "outputs": [],
   "source": [
    "E = E"
   ]
  },
  {
   "cell_type": "code",
   "execution_count": 24,
   "id": "1e583fb1-d603-42f7-9418-3fe939c62159",
   "metadata": {},
   "outputs": [
    {
     "data": {
      "text/plain": [
       "(4, 4, 2)"
      ]
     },
     "execution_count": 24,
     "metadata": {},
     "output_type": "execute_result"
    }
   ],
   "source": [
    "E.shape"
   ]
  },
  {
   "cell_type": "code",
   "execution_count": 28,
   "id": "29232cb6-77af-4ee9-b5c9-2e3267882026",
   "metadata": {},
   "outputs": [
    {
     "data": {
      "text/plain": [
       "array([[0.    , 0.7502, 0.    , 0.    ],\n",
       "       [0.5667, 0.    , 0.    , 0.    ],\n",
       "       [0.5988, 1.38  , 0.    , 0.5229],\n",
       "       [0.    , 0.    , 0.64  , 0.    ]])"
      ]
     },
     "execution_count": 28,
     "metadata": {},
     "output_type": "execute_result"
    }
   ],
   "source": [
    "E[:,:,0]"
   ]
  },
  {
   "cell_type": "code",
   "execution_count": null,
   "id": "4a4394e4-3629-45d3-8782-ca552d571d95",
   "metadata": {},
   "outputs": [],
   "source": []
  }
 ],
 "metadata": {
  "kernelspec": {
   "display_name": "Python 3",
   "language": "python",
   "name": "python3"
  },
  "language_info": {
   "codemirror_mode": {
    "name": "ipython",
    "version": 3
   },
   "file_extension": ".py",
   "mimetype": "text/x-python",
   "name": "python",
   "nbconvert_exporter": "python",
   "pygments_lexer": "ipython3",
   "version": "3.8.8"
  }
 },
 "nbformat": 4,
 "nbformat_minor": 5
}
