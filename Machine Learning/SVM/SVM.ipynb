{
 "cells": [
  {
   "cell_type": "code",
   "execution_count": 1,
   "id": "0c174157-bd83-4e21-8e17-ccabb0a3f059",
   "metadata": {},
   "outputs": [],
   "source": [
    "import pandas as pd\n",
    "import numpy as np"
   ]
  },
  {
   "cell_type": "code",
   "execution_count": 2,
   "id": "197b5805-86ea-4702-8d93-4418396fb2c9",
   "metadata": {},
   "outputs": [],
   "source": [
    "import matplotlib.pyplot as plt\n",
    "import seaborn as sns"
   ]
  },
  {
   "cell_type": "code",
   "execution_count": 3,
   "id": "47cc0b23-4709-4a9d-b426-b764440cf2cc",
   "metadata": {},
   "outputs": [],
   "source": [
    "%matplotlib inline"
   ]
  },
  {
   "cell_type": "code",
   "execution_count": 4,
   "id": "7a5ded12-95fc-4b3f-934b-78ecb2fc21d0",
   "metadata": {},
   "outputs": [],
   "source": [
    "from sklearn.datasets import load_breast_cancer"
   ]
  },
  {
   "cell_type": "code",
   "execution_count": 5,
   "id": "04b19aba-0b1e-4f6e-9e04-679ac8d89ea4",
   "metadata": {},
   "outputs": [],
   "source": [
    "cancer = load_breast_cancer()"
   ]
  },
  {
   "cell_type": "code",
   "execution_count": 7,
   "id": "b5ed1b04-817b-4fb2-8569-04dc58c0eef3",
   "metadata": {},
   "outputs": [
    {
     "data": {
      "text/plain": [
       "dict_keys(['data', 'target', 'frame', 'target_names', 'DESCR', 'feature_names', 'filename'])"
      ]
     },
     "execution_count": 7,
     "metadata": {},
     "output_type": "execute_result"
    }
   ],
   "source": [
    "cancer.keys()"
   ]
  },
  {
   "cell_type": "code",
   "execution_count": 10,
   "id": "76c39c3f-63ed-4a76-827a-f99353d5a1ad",
   "metadata": {},
   "outputs": [],
   "source": [
    "df_feat = pd.DataFrame(cancer['data'], columns = cancer['feature_names'])"
   ]
  },
  {
   "cell_type": "code",
   "execution_count": 11,
   "id": "da05246f-530e-4764-a719-c5b3b113aacc",
   "metadata": {},
   "outputs": [
    {
     "name": "stdout",
     "output_type": "stream",
     "text": [
      "<class 'pandas.core.frame.DataFrame'>\n",
      "RangeIndex: 569 entries, 0 to 568\n",
      "Data columns (total 30 columns):\n",
      " #   Column                   Non-Null Count  Dtype  \n",
      "---  ------                   --------------  -----  \n",
      " 0   mean radius              569 non-null    float64\n",
      " 1   mean texture             569 non-null    float64\n",
      " 2   mean perimeter           569 non-null    float64\n",
      " 3   mean area                569 non-null    float64\n",
      " 4   mean smoothness          569 non-null    float64\n",
      " 5   mean compactness         569 non-null    float64\n",
      " 6   mean concavity           569 non-null    float64\n",
      " 7   mean concave points      569 non-null    float64\n",
      " 8   mean symmetry            569 non-null    float64\n",
      " 9   mean fractal dimension   569 non-null    float64\n",
      " 10  radius error             569 non-null    float64\n",
      " 11  texture error            569 non-null    float64\n",
      " 12  perimeter error          569 non-null    float64\n",
      " 13  area error               569 non-null    float64\n",
      " 14  smoothness error         569 non-null    float64\n",
      " 15  compactness error        569 non-null    float64\n",
      " 16  concavity error          569 non-null    float64\n",
      " 17  concave points error     569 non-null    float64\n",
      " 18  symmetry error           569 non-null    float64\n",
      " 19  fractal dimension error  569 non-null    float64\n",
      " 20  worst radius             569 non-null    float64\n",
      " 21  worst texture            569 non-null    float64\n",
      " 22  worst perimeter          569 non-null    float64\n",
      " 23  worst area               569 non-null    float64\n",
      " 24  worst smoothness         569 non-null    float64\n",
      " 25  worst compactness        569 non-null    float64\n",
      " 26  worst concavity          569 non-null    float64\n",
      " 27  worst concave points     569 non-null    float64\n",
      " 28  worst symmetry           569 non-null    float64\n",
      " 29  worst fractal dimension  569 non-null    float64\n",
      "dtypes: float64(30)\n",
      "memory usage: 133.5 KB\n"
     ]
    }
   ],
   "source": [
    "df_feat.info()"
   ]
  },
  {
   "cell_type": "code",
   "execution_count": 12,
   "id": "0824ae0c-c7df-4c9b-a3c7-caed10f235f9",
   "metadata": {},
   "outputs": [],
   "source": [
    "from sklearn.model_selection import train_test_split"
   ]
  },
  {
   "cell_type": "code",
   "execution_count": 13,
   "id": "e5ecfd2c-e22a-4556-be9d-2757eed7350c",
   "metadata": {},
   "outputs": [],
   "source": [
    "X = df_feat\n",
    "y = cancer['target']\n",
    "\n",
    "X_train, X_test, y_train, y_test = train_test_split(X, y, test_size=0.33, random_state=42)"
   ]
  },
  {
   "cell_type": "code",
   "execution_count": 14,
   "id": "d624cf1b-b1f5-4159-9df9-274afeb30145",
   "metadata": {},
   "outputs": [],
   "source": [
    "from sklearn.svm import SVC"
   ]
  },
  {
   "cell_type": "code",
   "execution_count": 15,
   "id": "67069726-e800-44c8-9ee8-e226c4d896c5",
   "metadata": {},
   "outputs": [],
   "source": [
    "model = SVC()"
   ]
  },
  {
   "cell_type": "code",
   "execution_count": 16,
   "id": "d7c6239a-8471-498f-95f0-772dcc3aa25a",
   "metadata": {},
   "outputs": [
    {
     "data": {
      "text/plain": [
       "SVC()"
      ]
     },
     "execution_count": 16,
     "metadata": {},
     "output_type": "execute_result"
    }
   ],
   "source": [
    "model.fit(X_train, y_train)"
   ]
  },
  {
   "cell_type": "code",
   "execution_count": 17,
   "id": "28951ced-078c-4b9e-93a6-ab4bd0e6776b",
   "metadata": {},
   "outputs": [],
   "source": [
    "predictions = model.predict(X_test)"
   ]
  },
  {
   "cell_type": "code",
   "execution_count": 18,
   "id": "d076bfc4-d8f3-4061-b453-ce0279a980e2",
   "metadata": {},
   "outputs": [],
   "source": [
    "from sklearn.metrics import classification_report, confusion_matrix"
   ]
  },
  {
   "cell_type": "code",
   "execution_count": 20,
   "id": "8ecc50ff-d20c-427c-8089-898569c18306",
   "metadata": {},
   "outputs": [
    {
     "name": "stdout",
     "output_type": "stream",
     "text": [
      "[[ 59   8]\n",
      " [  1 120]]\n",
      "\n",
      "\n",
      "              precision    recall  f1-score   support\n",
      "\n",
      "           0       0.98      0.88      0.93        67\n",
      "           1       0.94      0.99      0.96       121\n",
      "\n",
      "    accuracy                           0.95       188\n",
      "   macro avg       0.96      0.94      0.95       188\n",
      "weighted avg       0.95      0.95      0.95       188\n",
      "\n"
     ]
    }
   ],
   "source": [
    "print(confusion_matrix(y_test, predictions))\n",
    "print('\\n')\n",
    "print(classification_report(y_test, predictions))"
   ]
  },
  {
   "cell_type": "code",
   "execution_count": 23,
   "id": "f9c43351-3f32-4512-a1a6-c1e3d9b06b11",
   "metadata": {},
   "outputs": [],
   "source": [
    "from sklearn.model_selection import GridSearchCV"
   ]
  },
  {
   "cell_type": "code",
   "execution_count": 24,
   "id": "15439a34-d4f8-4152-a645-cd4d109db507",
   "metadata": {},
   "outputs": [],
   "source": [
    "param_grid = {'C':[0.1,1,10,100,1000], 'gamma':[1,0.1,0.01,0.001,0.0001]}"
   ]
  },
  {
   "cell_type": "code",
   "execution_count": 25,
   "id": "a0ced0ab-f135-4c3f-b552-40c4e7d0c4d2",
   "metadata": {},
   "outputs": [],
   "source": [
    "grid = GridSearchCV(SVC(), param_grid, verbose = 3)"
   ]
  },
  {
   "cell_type": "code",
   "execution_count": 27,
   "id": "4388536b-ee62-4e91-8ecd-bc2475f4bfa8",
   "metadata": {},
   "outputs": [
    {
     "name": "stdout",
     "output_type": "stream",
     "text": [
      "Fitting 5 folds for each of 25 candidates, totalling 125 fits\n",
      "[CV 1/5] END .................................C=0.1, gamma=1; total time=   0.0s\n",
      "[CV 2/5] END .................................C=0.1, gamma=1; total time=   0.0s\n",
      "[CV 3/5] END .................................C=0.1, gamma=1; total time=   0.0s\n",
      "[CV 4/5] END .................................C=0.1, gamma=1; total time=   0.0s\n",
      "[CV 5/5] END .................................C=0.1, gamma=1; total time=   0.0s\n",
      "[CV 1/5] END ...............................C=0.1, gamma=0.1; total time=   0.0s\n",
      "[CV 2/5] END ...............................C=0.1, gamma=0.1; total time=   0.0s\n",
      "[CV 3/5] END ...............................C=0.1, gamma=0.1; total time=   0.0s\n",
      "[CV 4/5] END ...............................C=0.1, gamma=0.1; total time=   0.0s\n",
      "[CV 5/5] END ...............................C=0.1, gamma=0.1; total time=   0.0s\n",
      "[CV 1/5] END ..............................C=0.1, gamma=0.01; total time=   0.0s\n",
      "[CV 2/5] END ..............................C=0.1, gamma=0.01; total time=   0.0s\n",
      "[CV 3/5] END ..............................C=0.1, gamma=0.01; total time=   0.0s\n",
      "[CV 4/5] END ..............................C=0.1, gamma=0.01; total time=   0.0s\n",
      "[CV 5/5] END ..............................C=0.1, gamma=0.01; total time=   0.0s\n",
      "[CV 1/5] END .............................C=0.1, gamma=0.001; total time=   0.0s\n",
      "[CV 2/5] END .............................C=0.1, gamma=0.001; total time=   0.0s\n",
      "[CV 3/5] END .............................C=0.1, gamma=0.001; total time=   0.0s\n",
      "[CV 4/5] END .............................C=0.1, gamma=0.001; total time=   0.0s\n",
      "[CV 5/5] END .............................C=0.1, gamma=0.001; total time=   0.0s\n",
      "[CV 1/5] END ............................C=0.1, gamma=0.0001; total time=   0.0s\n",
      "[CV 2/5] END ............................C=0.1, gamma=0.0001; total time=   0.0s\n",
      "[CV 3/5] END ............................C=0.1, gamma=0.0001; total time=   0.0s\n",
      "[CV 4/5] END ............................C=0.1, gamma=0.0001; total time=   0.0s\n",
      "[CV 5/5] END ............................C=0.1, gamma=0.0001; total time=   0.0s\n",
      "[CV 1/5] END ...................................C=1, gamma=1; total time=   0.0s\n",
      "[CV 2/5] END ...................................C=1, gamma=1; total time=   0.0s\n",
      "[CV 3/5] END ...................................C=1, gamma=1; total time=   0.0s\n",
      "[CV 4/5] END ...................................C=1, gamma=1; total time=   0.0s\n",
      "[CV 5/5] END ...................................C=1, gamma=1; total time=   0.0s\n",
      "[CV 1/5] END .................................C=1, gamma=0.1; total time=   0.0s\n",
      "[CV 2/5] END .................................C=1, gamma=0.1; total time=   0.0s\n",
      "[CV 3/5] END .................................C=1, gamma=0.1; total time=   0.0s\n",
      "[CV 4/5] END .................................C=1, gamma=0.1; total time=   0.0s\n",
      "[CV 5/5] END .................................C=1, gamma=0.1; total time=   0.0s\n",
      "[CV 1/5] END ................................C=1, gamma=0.01; total time=   0.0s\n",
      "[CV 2/5] END ................................C=1, gamma=0.01; total time=   0.0s\n",
      "[CV 3/5] END ................................C=1, gamma=0.01; total time=   0.0s\n",
      "[CV 4/5] END ................................C=1, gamma=0.01; total time=   0.0s\n",
      "[CV 5/5] END ................................C=1, gamma=0.01; total time=   0.0s\n",
      "[CV 1/5] END ...............................C=1, gamma=0.001; total time=   0.0s\n",
      "[CV 2/5] END ...............................C=1, gamma=0.001; total time=   0.0s\n",
      "[CV 3/5] END ...............................C=1, gamma=0.001; total time=   0.0s\n",
      "[CV 4/5] END ...............................C=1, gamma=0.001; total time=   0.0s\n",
      "[CV 5/5] END ...............................C=1, gamma=0.001; total time=   0.0s\n",
      "[CV 1/5] END ..............................C=1, gamma=0.0001; total time=   0.0s\n",
      "[CV 2/5] END ..............................C=1, gamma=0.0001; total time=   0.0s\n",
      "[CV 3/5] END ..............................C=1, gamma=0.0001; total time=   0.0s\n",
      "[CV 4/5] END ..............................C=1, gamma=0.0001; total time=   0.0s\n",
      "[CV 5/5] END ..............................C=1, gamma=0.0001; total time=   0.0s\n",
      "[CV 1/5] END ..................................C=10, gamma=1; total time=   0.0s\n",
      "[CV 2/5] END ..................................C=10, gamma=1; total time=   0.0s\n",
      "[CV 3/5] END ..................................C=10, gamma=1; total time=   0.0s\n",
      "[CV 4/5] END ..................................C=10, gamma=1; total time=   0.0s\n",
      "[CV 5/5] END ..................................C=10, gamma=1; total time=   0.0s\n",
      "[CV 1/5] END ................................C=10, gamma=0.1; total time=   0.0s\n",
      "[CV 2/5] END ................................C=10, gamma=0.1; total time=   0.0s\n",
      "[CV 3/5] END ................................C=10, gamma=0.1; total time=   0.0s\n",
      "[CV 4/5] END ................................C=10, gamma=0.1; total time=   0.0s\n",
      "[CV 5/5] END ................................C=10, gamma=0.1; total time=   0.0s\n",
      "[CV 1/5] END ...............................C=10, gamma=0.01; total time=   0.0s\n",
      "[CV 2/5] END ...............................C=10, gamma=0.01; total time=   0.0s\n",
      "[CV 3/5] END ...............................C=10, gamma=0.01; total time=   0.0s\n",
      "[CV 4/5] END ...............................C=10, gamma=0.01; total time=   0.0s\n",
      "[CV 5/5] END ...............................C=10, gamma=0.01; total time=   0.0s\n",
      "[CV 1/5] END ..............................C=10, gamma=0.001; total time=   0.0s\n",
      "[CV 2/5] END ..............................C=10, gamma=0.001; total time=   0.0s\n",
      "[CV 3/5] END ..............................C=10, gamma=0.001; total time=   0.0s\n",
      "[CV 4/5] END ..............................C=10, gamma=0.001; total time=   0.0s\n",
      "[CV 5/5] END ..............................C=10, gamma=0.001; total time=   0.0s\n",
      "[CV 1/5] END .............................C=10, gamma=0.0001; total time=   0.0s\n",
      "[CV 2/5] END .............................C=10, gamma=0.0001; total time=   0.0s\n",
      "[CV 3/5] END .............................C=10, gamma=0.0001; total time=   0.0s\n",
      "[CV 4/5] END .............................C=10, gamma=0.0001; total time=   0.0s\n",
      "[CV 5/5] END .............................C=10, gamma=0.0001; total time=   0.0s\n",
      "[CV 1/5] END .................................C=100, gamma=1; total time=   0.0s\n",
      "[CV 2/5] END .................................C=100, gamma=1; total time=   0.0s\n",
      "[CV 3/5] END .................................C=100, gamma=1; total time=   0.0s\n",
      "[CV 4/5] END .................................C=100, gamma=1; total time=   0.0s\n",
      "[CV 5/5] END .................................C=100, gamma=1; total time=   0.0s\n",
      "[CV 1/5] END ...............................C=100, gamma=0.1; total time=   0.0s\n",
      "[CV 2/5] END ...............................C=100, gamma=0.1; total time=   0.0s\n",
      "[CV 3/5] END ...............................C=100, gamma=0.1; total time=   0.0s\n",
      "[CV 4/5] END ...............................C=100, gamma=0.1; total time=   0.0s\n",
      "[CV 5/5] END ...............................C=100, gamma=0.1; total time=   0.0s\n",
      "[CV 1/5] END ..............................C=100, gamma=0.01; total time=   0.0s\n",
      "[CV 2/5] END ..............................C=100, gamma=0.01; total time=   0.0s\n",
      "[CV 3/5] END ..............................C=100, gamma=0.01; total time=   0.0s\n",
      "[CV 4/5] END ..............................C=100, gamma=0.01; total time=   0.0s\n",
      "[CV 5/5] END ..............................C=100, gamma=0.01; total time=   0.0s\n",
      "[CV 1/5] END .............................C=100, gamma=0.001; total time=   0.0s\n",
      "[CV 2/5] END .............................C=100, gamma=0.001; total time=   0.0s\n",
      "[CV 3/5] END .............................C=100, gamma=0.001; total time=   0.0s\n",
      "[CV 4/5] END .............................C=100, gamma=0.001; total time=   0.0s\n",
      "[CV 5/5] END .............................C=100, gamma=0.001; total time=   0.0s\n",
      "[CV 1/5] END ............................C=100, gamma=0.0001; total time=   0.0s\n",
      "[CV 2/5] END ............................C=100, gamma=0.0001; total time=   0.0s\n",
      "[CV 3/5] END ............................C=100, gamma=0.0001; total time=   0.0s\n",
      "[CV 4/5] END ............................C=100, gamma=0.0001; total time=   0.0s\n",
      "[CV 5/5] END ............................C=100, gamma=0.0001; total time=   0.0s\n",
      "[CV 1/5] END ................................C=1000, gamma=1; total time=   0.0s\n",
      "[CV 2/5] END ................................C=1000, gamma=1; total time=   0.0s\n",
      "[CV 3/5] END ................................C=1000, gamma=1; total time=   0.0s\n",
      "[CV 4/5] END ................................C=1000, gamma=1; total time=   0.0s\n",
      "[CV 5/5] END ................................C=1000, gamma=1; total time=   0.0s\n",
      "[CV 1/5] END ..............................C=1000, gamma=0.1; total time=   0.0s\n",
      "[CV 2/5] END ..............................C=1000, gamma=0.1; total time=   0.0s\n",
      "[CV 3/5] END ..............................C=1000, gamma=0.1; total time=   0.0s\n",
      "[CV 4/5] END ..............................C=1000, gamma=0.1; total time=   0.0s\n",
      "[CV 5/5] END ..............................C=1000, gamma=0.1; total time=   0.0s\n",
      "[CV 1/5] END .............................C=1000, gamma=0.01; total time=   0.0s\n",
      "[CV 2/5] END .............................C=1000, gamma=0.01; total time=   0.0s\n",
      "[CV 3/5] END .............................C=1000, gamma=0.01; total time=   0.0s\n",
      "[CV 4/5] END .............................C=1000, gamma=0.01; total time=   0.0s\n",
      "[CV 5/5] END .............................C=1000, gamma=0.01; total time=   0.0s\n",
      "[CV 1/5] END ............................C=1000, gamma=0.001; total time=   0.0s\n",
      "[CV 2/5] END ............................C=1000, gamma=0.001; total time=   0.0s\n",
      "[CV 3/5] END ............................C=1000, gamma=0.001; total time=   0.0s\n",
      "[CV 4/5] END ............................C=1000, gamma=0.001; total time=   0.0s\n",
      "[CV 5/5] END ............................C=1000, gamma=0.001; total time=   0.0s\n",
      "[CV 1/5] END ...........................C=1000, gamma=0.0001; total time=   0.0s\n",
      "[CV 2/5] END ...........................C=1000, gamma=0.0001; total time=   0.0s\n",
      "[CV 3/5] END ...........................C=1000, gamma=0.0001; total time=   0.0s\n",
      "[CV 4/5] END ...........................C=1000, gamma=0.0001; total time=   0.0s\n",
      "[CV 5/5] END ...........................C=1000, gamma=0.0001; total time=   0.0s\n"
     ]
    },
    {
     "data": {
      "text/plain": [
       "GridSearchCV(estimator=SVC(),\n",
       "             param_grid={'C': [0.1, 1, 10, 100, 1000],\n",
       "                         'gamma': [1, 0.1, 0.01, 0.001, 0.0001]},\n",
       "             verbose=3)"
      ]
     },
     "execution_count": 27,
     "metadata": {},
     "output_type": "execute_result"
    }
   ],
   "source": [
    "grid.fit(X_train, y_train)"
   ]
  },
  {
   "cell_type": "code",
   "execution_count": 28,
   "id": "af8e64cb-7fcd-41ac-ae48-66e9552d8d35",
   "metadata": {},
   "outputs": [
    {
     "data": {
      "text/plain": [
       "{'C': 10, 'gamma': 0.0001}"
      ]
     },
     "execution_count": 28,
     "metadata": {},
     "output_type": "execute_result"
    }
   ],
   "source": [
    "grid.best_params_"
   ]
  },
  {
   "cell_type": "code",
   "execution_count": 29,
   "id": "12a62161-071a-42af-8f9a-98cc73ece319",
   "metadata": {},
   "outputs": [
    {
     "data": {
      "text/plain": [
       "SVC(C=10, gamma=0.0001)"
      ]
     },
     "execution_count": 29,
     "metadata": {},
     "output_type": "execute_result"
    }
   ],
   "source": [
    "grid.best_estimator_"
   ]
  },
  {
   "cell_type": "code",
   "execution_count": 30,
   "id": "96326f18-6e7f-45b3-a2c7-2b5fa7fa25b2",
   "metadata": {},
   "outputs": [],
   "source": [
    "grid_predictions = grid.predict(X_test)"
   ]
  },
  {
   "cell_type": "code",
   "execution_count": 32,
   "id": "905155bd-91fe-4e19-86e4-a9972d7e9150",
   "metadata": {},
   "outputs": [
    {
     "name": "stdout",
     "output_type": "stream",
     "text": [
      "[[ 63   4]\n",
      " [  3 118]]\n",
      "\n",
      "\n",
      "              precision    recall  f1-score   support\n",
      "\n",
      "           0       0.95      0.94      0.95        67\n",
      "           1       0.97      0.98      0.97       121\n",
      "\n",
      "    accuracy                           0.96       188\n",
      "   macro avg       0.96      0.96      0.96       188\n",
      "weighted avg       0.96      0.96      0.96       188\n",
      "\n"
     ]
    }
   ],
   "source": [
    "print(confusion_matrix(y_test, grid_predictions))\n",
    "print('\\n')\n",
    "print(classification_report(y_test, grid_predictions))"
   ]
  },
  {
   "cell_type": "code",
   "execution_count": null,
   "id": "b66c9840-7e1c-447e-8990-784e1fe889b3",
   "metadata": {},
   "outputs": [],
   "source": []
  }
 ],
 "metadata": {
  "kernelspec": {
   "display_name": "Python 3",
   "language": "python",
   "name": "python3"
  },
  "language_info": {
   "codemirror_mode": {
    "name": "ipython",
    "version": 3
   },
   "file_extension": ".py",
   "mimetype": "text/x-python",
   "name": "python",
   "nbconvert_exporter": "python",
   "pygments_lexer": "ipython3",
   "version": "3.8.8"
  }
 },
 "nbformat": 4,
 "nbformat_minor": 5
}
