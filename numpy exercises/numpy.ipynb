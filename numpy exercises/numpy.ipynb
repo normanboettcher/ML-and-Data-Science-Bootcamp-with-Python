{
 "cells": [
  {
   "cell_type": "markdown",
   "id": "588755a7-0879-43b1-b21e-b3d4531105d7",
   "metadata": {},
   "source": [
    "### Numpy exercises from udemy course 'Python for Data Science and Machine Learning Bootcamp'"
   ]
  },
  {
   "cell_type": "code",
   "execution_count": null,
   "id": "bb22d71b-324d-4376-9f6e-c1f2ad89cc66",
   "metadata": {},
   "outputs": [],
   "source": []
  }
 ],
 "metadata": {
  "kernelspec": {
   "display_name": "Python 3",
   "language": "python",
   "name": "python3"
  },
  "language_info": {
   "codemirror_mode": {
    "name": "ipython",
    "version": 3
   },
   "file_extension": ".py",
   "mimetype": "text/x-python",
   "name": "python",
   "nbconvert_exporter": "python",
   "pygments_lexer": "ipython3",
   "version": "3.8.8"
  }
 },
 "nbformat": 4,
 "nbformat_minor": 5
}
